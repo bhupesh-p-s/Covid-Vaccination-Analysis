{
  "nbformat": 4,
  "nbformat_minor": 0,
  "metadata": {
    "colab": {
      "provenance": [],
      "collapsed_sections": []
    },
    "kernelspec": {
      "name": "python3",
      "display_name": "Python 3"
    },
    "language_info": {
      "name": "python"
    }
  },
  "cells": [
    {
      "cell_type": "markdown",
      "metadata": {
        "id": "iaMvzKGOEZeE"
      },
      "source": [
        "#Dependencies \n",
        "- Pandas\n",
        "    - pandas is a fast, powerful, flexible and easy to use open source data analysis and manipulation tool, built on top of the Python programming language\n",
        "- matplotlib \n",
        "    - Visualization with Python. Matplotlib is a comprehensive library for creating static, animated, and interactive visualizations in Python\n",
        "- scipy \n",
        "    - SciPy (pronounced “Sigh Pie”) is a Python-based ecosystem of open-source software for mathematics, science, and engineering\n",
        "\n",
        "\n"
      ]
    },
    {
      "cell_type": "code",
      "metadata": {
        "id": "mGQS95IYDvO7"
      },
      "source": [
        "import pandas as pd \n",
        "import matplotlib.pyplot as plt\n",
        "from scipy.stats import norm"
      ],
      "execution_count": null,
      "outputs": []
    },
    {
      "cell_type": "markdown",
      "metadata": {
        "id": "B91PbB2UGOEg"
      },
      "source": [
        "# Getting the Data\n",
        "- We are using `pandas` *read_excel* method for reading the excel file \n",
        "- pandas will create a dataframe we will store that dataframe in *data* varirable \n",
        "- we are using `pandas` *head* method for displaying top 5 row of that dataframe \n"
      ]
    },
    {
      "cell_type": "code",
      "metadata": {
        "colab": {
          "base_uri": "https://localhost:8080/",
          "height": 203
        },
        "id": "V-Ub567ceAK8",
        "outputId": "0aa77750-4fb7-47cc-93b1-68608a63d37a"
      },
      "source": [
        "data = pd.read_excel('/content/drive/MyDrive/covid vaccine data set (1).xlsx')\n",
        "data.head()"
      ],
      "execution_count": null,
      "outputs": [
        {
          "output_type": "execute_result",
          "data": {
            "text/html": [
              "<div>\n",
              "<style scoped>\n",
              "    .dataframe tbody tr th:only-of-type {\n",
              "        vertical-align: middle;\n",
              "    }\n",
              "\n",
              "    .dataframe tbody tr th {\n",
              "        vertical-align: top;\n",
              "    }\n",
              "\n",
              "    .dataframe thead th {\n",
              "        text-align: right;\n",
              "    }\n",
              "</style>\n",
              "<table border=\"1\" class=\"dataframe\">\n",
              "  <thead>\n",
              "    <tr style=\"text-align: right;\">\n",
              "      <th></th>\n",
              "      <th>STATE/UTS</th>\n",
              "      <th>DOSE1</th>\n",
              "      <th>DOSE2</th>\n",
              "      <th>TOTAL VACCINATION DOSES</th>\n",
              "      <th>VACCINATION DOSES DAY BEFORE</th>\n",
              "      <th>TOTAL POPULATION</th>\n",
              "    </tr>\n",
              "  </thead>\n",
              "  <tbody>\n",
              "    <tr>\n",
              "      <th>0</th>\n",
              "      <td>Andaman and Nicobar</td>\n",
              "      <td>108556</td>\n",
              "      <td>15166</td>\n",
              "      <td>123722</td>\n",
              "      <td>123480</td>\n",
              "      <td>380581</td>\n",
              "    </tr>\n",
              "    <tr>\n",
              "      <th>1</th>\n",
              "      <td>Andhra Pradesh</td>\n",
              "      <td>7282314</td>\n",
              "      <td>2484464</td>\n",
              "      <td>9766778</td>\n",
              "      <td>9751848</td>\n",
              "      <td>49577103</td>\n",
              "    </tr>\n",
              "    <tr>\n",
              "      <th>2</th>\n",
              "      <td>Arunachal Pradesh</td>\n",
              "      <td>254719</td>\n",
              "      <td>78272</td>\n",
              "      <td>332991</td>\n",
              "      <td>332657</td>\n",
              "      <td>1383727</td>\n",
              "    </tr>\n",
              "    <tr>\n",
              "      <th>3</th>\n",
              "      <td>Assam</td>\n",
              "      <td>3264939</td>\n",
              "      <td>828758</td>\n",
              "      <td>4093697</td>\n",
              "      <td>4073698</td>\n",
              "      <td>31205576</td>\n",
              "    </tr>\n",
              "    <tr>\n",
              "      <th>4</th>\n",
              "      <td>Bihar</td>\n",
              "      <td>8465262</td>\n",
              "      <td>1779574</td>\n",
              "      <td>10244836</td>\n",
              "      <td>10203344</td>\n",
              "      <td>104099452</td>\n",
              "    </tr>\n",
              "  </tbody>\n",
              "</table>\n",
              "</div>"
            ],
            "text/plain": [
              "              STATE/UTS  ...  TOTAL POPULATION\n",
              "0   Andaman and Nicobar  ...            380581\n",
              "1        Andhra Pradesh  ...          49577103\n",
              "2     Arunachal Pradesh  ...           1383727\n",
              "3                 Assam  ...          31205576\n",
              "4                 Bihar  ...         104099452\n",
              "\n",
              "[5 rows x 6 columns]"
            ]
          },
          "metadata": {
            "tags": []
          },
          "execution_count": 24
        }
      ]
    },
    {
      "cell_type": "markdown",
      "metadata": {
        "id": "-bXWtGZlGzY9"
      },
      "source": [
        "# Modifiying the Data For Our Use \n",
        "- We are going to visualize the probability concepts like **Normal Distribution**, **Three Sigma rule**, **z-index**\n",
        "- we are going to do those things in the **percentage of people vaccinated** data\n",
        "- but in our dataset we don't have percentage of people vaccinated data, so we need to Calutate it from the existing dataset \n",
        "- we can calculate the percentage of people vaccinated by dividing **number of people taken the first dose** *by* **total population of the state**\n",
        "- pandas made it very easy,we can just divide the two divide two dataframe to get that \n",
        "\n"
      ]
    },
    {
      "cell_type": "code",
      "metadata": {
        "colab": {
          "base_uri": "https://localhost:8080/"
        },
        "id": "o1CLvAzPK3Q8",
        "outputId": "b1bc16bc-d169-48ef-ff50-2d8f46837080"
      },
      "source": [
        "vaccinated  = data[\"DOSE1\"]\n",
        "population = data[\"TOTAL POPULATION\"]\n",
        "percentage = (vaccinated / population)* 100\n",
        "percentage.head()"
      ],
      "execution_count": null,
      "outputs": [
        {
          "output_type": "execute_result",
          "data": {
            "text/plain": [
              "0    28.523757\n",
              "1    14.688866\n",
              "2    18.408183\n",
              "3    10.462678\n",
              "4     8.131899\n",
              "dtype: float64"
            ]
          },
          "metadata": {
            "tags": []
          },
          "execution_count": 6
        }
      ]
    },
    {
      "cell_type": "markdown",
      "metadata": {
        "id": "nL8VIkO8Iyxn"
      },
      "source": [
        "#Normal Distribution Curve\n",
        "\n",
        "- Normal Distribution Curve Looks Like this\n",
        "![Normal Distribution Curve](https://i.imgur.com/3vDS2Au.png)\n",
        "\n",
        "> **X axis** is the value of the data \n",
        "> **Y Axix** is the probability of that Value\n",
        "\n",
        "\n",
        "- To understand it better We have a example of Height normal distribution function'\n",
        "- x axis is the height of the people \n",
        "- y axis is the probability to spot them \n",
        "\n",
        "![Height normal Distribution](https://lh5.googleusercontent.com/7HUUB3UmchZR7EKw0KYXQtwKiGgAntxIirLzgbp-g0a7xJkU0mJo978Ka70cDy8aVe13wmczRL2VvInUNZkWC3e7zlNJbKbNR5Bur1Mt)\n",
        "\n",
        "- A normal distribution is sometimes informally called a bell curve\n",
        "\n",
        "## Displaying the Curve Using MathPlotLib\n",
        "- First we are getting **mean** and **Standard deveation** from the percentage data using `pandas` *describe* function \n",
        "- Then We are using `matplotlib` *plot* function to plot of the curve \n",
        "- We are giving sorted list of the percentage Data as **X Axis** \n",
        "- **Y-Axis**  is the is probability Density function from `Scipy`\n",
        "- Then we are using `matplotlib' *show* function to show the results\n"
      ]
    },
    {
      "cell_type": "code",
      "metadata": {
        "colab": {
          "base_uri": "https://localhost:8080/",
          "height": 281
        },
        "id": "v3cmqX4NPJeg",
        "outputId": "c9860107-4bf4-4857-f0ae-5eb598cf31b9"
      },
      "source": [
        "stat_data  = percentage.describe()\n",
        "mean = stat_data[\"mean\"]\n",
        "SD = stat_data[\"std\"]\n",
        "\n",
        "plt.title(\"Normal Distribution curve Percentage of people Vaccinated in ach states\")\n",
        "plt.plot(percentage.sort_values(), norm.pdf(percentage.sort_values(), mean, SD))\n",
        "plt.ylabel(\"Probability\")\n",
        "plt.show()"
      ],
      "execution_count": null,
      "outputs": [
        {
          "output_type": "display_data",
          "data": {
            "image/png": "[encoded data removed]",
            "text/plain": [
              "<Figure size 432x288 with 1 Axes>"
            ]
          },
          "metadata": {
            "tags": [],
            "needs_background": "light"
          }
        }
      ]
    },
    {
      "cell_type": "markdown",
      "metadata": {
        "id": "IYV9ljPrUI9t"
      },
      "source": [
        "#Three Sigma Rule\n",
        "- The below image describe what is three sigma rule\n",
        "- **The Three Sigma rule**, also known as the empirical rule or **68-95-99.7** rule\n",
        "\n",
        "- The Three Sigma rule dictates that given a normal distribution, 68% of your observations will fall between one **standard deviation** of the mean. 95% will fall within two, and 99.7% will fall within three\n",
        "![Three Sigma](https://i.imgur.com/Mt3RyE0.png)\n",
        "\n",
        "\n",
        "- Our Dataset Doesn't perfectly fits in normal distribution but We can calculate it to find how close it is \n",
        "- We can Calculate it using the `scipy` cumulative distribution function *cdf*\n",
        "\n",
        "- we can print the **%** of our calculations fall in between one standard deviation Distance ,two and three respectively "
      ]
    },
    {
      "cell_type": "code",
      "metadata": {
        "colab": {
          "base_uri": "https://localhost:8080/"
        },
        "id": "G8_GNzU1S2tO",
        "outputId": "b65ed0b2-712b-458a-a9fc-b8b57382eb95"
      },
      "source": [
        "one_sd = norm.cdf(2*SD, mean, SD) - norm.cdf(-2*SD, mean, SD)\n",
        "two_sd = norm.cdf(3 * SD, mean, SD) - norm.cdf(-3 * SD, mean, SD)\n",
        "three_sd = norm.cdf(4 * SD, mean, SD) - norm.cdf(-4 * SD, mean, SD)\n",
        "\n",
        "print(f'% of our observation falls in bettween one std distance from mean {round(one_sd,2)}%')\n",
        "print(f'% of our observation falls in bettween two std distance from mean {round(two_sd,2)}%')\n",
        "print(f'% of our observation falls in bettween three std distance from mean {round(three_sd,2)}%')"
      ],
      "execution_count": null,
      "outputs": [
        {
          "output_type": "stream",
          "text": [
            "% of our observation falls in bettween one std distance from mean 0.37%\n",
            "% of our observation falls in bettween two std distance from mean 0.75%\n",
            "% of our observation falls in bettween three std distance from mean 0.95%\n"
          ],
          "name": "stdout"
        }
      ]
    },
    {
      "cell_type": "markdown",
      "metadata": {
        "id": "onkNF72cW0Zs"
      },
      "source": [
        "#Z Index\n",
        "\n",
        "> The Z-score is a simple calculation that answers the question, “Given a data point, **how many standard deviations is it away from the mean?**” The equation below is the Z-score equation\n",
        "\n",
        "- below gives us the formula\n",
        "\n",
        "![z index](https://i.imgur.com/3TuDF4G.jpg)\n",
        "\n",
        "-  Z-score doesn’t provide much information to you. It gains the most value when compared against a *Z-table*, which tabulates the **cumulative probability** of a standard normal distribution up until a given Z-score\n",
        "\n",
        "![z index table uses](http://www.z-table.com/uploads/2/1/7/9/21795380/7807141_orig.png)\n",
        "- Below is the z index Table \n",
        "![z index table](http://www.z-table.com/uploads/2/1/7/9/21795380/9340559_orig.png)\n",
        "\n",
        "\n",
        "> If we can find the Z value in that table, We can find the **cumulative probability** \n",
        "\n",
        "- In the Python We don't need that Table `scipy` provide that in the form of `cdf` cumulative probability function \n",
        "- We can just pass the value of **Z** and find the cumulative probablity \n",
        "\n",
        "\n",
        "\n",
        "\n"
      ]
    },
    {
      "cell_type": "code",
      "metadata": {
        "colab": {
          "base_uri": "https://localhost:8080/"
        },
        "id": "K5Xcoj-dVXbV",
        "outputId": "ac12b97c-590e-4bf2-b824-335db954bc3f"
      },
      "source": [
        "z = (30 - mean)/SD\n",
        "\n",
        "print(f\"% of states vaccinated below 30%: {round(norm.cdf(z),2)}\")\n",
        "print(f\"% of states vaccinated above 30%: {round(1 - norm.cdf(z),2)}\")"
      ],
      "execution_count": null,
      "outputs": [
        {
          "output_type": "stream",
          "text": [
            "% of states vaccinated below 30%: 0.88\n",
            "% of states vaccinated above 30%: 0.12\n"
          ],
          "name": "stdout"
        }
      ]
    }
  ]
}